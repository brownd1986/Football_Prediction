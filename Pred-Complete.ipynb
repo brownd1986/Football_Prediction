{
 "cells": [
  {
   "cell_type": "markdown",
   "metadata": {},
   "source": [
    "# Import required modules"
   ]
  },
  {
   "cell_type": "code",
   "execution_count": 19,
   "metadata": {},
   "outputs": [],
   "source": [
    "import warnings\n",
    "warnings.filterwarnings('ignore')\n",
    "import pandas as pd\n",
    "import numpy as np\n",
    "from sklearn import datasets\n",
    "from sklearn import cross_validation\n",
    "from pandas.tools.plotting import scatter_matrix\n",
    "import matplotlib.pyplot as plt\n",
    "from sklearn import metrics\n",
    "from sklearn.linear_model import LogisticRegression\n",
    "from sklearn.linear_model import LinearRegression\n",
    "from sklearn import model_selection\n",
    "from sklearn.metrics import classification_report\n",
    "from sklearn.metrics import confusion_matrix\n",
    "from sklearn.metrics import accuracy_score\n",
    "from sklearn.tree import DecisionTreeClassifier\n",
    "from sklearn.neighbors import KNeighborsClassifier\n",
    "from sklearn.discriminant_analysis import LinearDiscriminantAnalysis\n",
    "from sklearn.naive_bayes import GaussianNB\n",
    "from sklearn.svm import SVC\n",
    "import seaborn as sns\n",
    "import glob\n",
    "import os\n",
    "from sklearn.cross_validation import cross_val_score\n",
    "plt.style.use('ggplot')"
   ]
  },
  {
   "cell_type": "markdown",
   "metadata": {},
   "source": [
    "# Define Functions"
   ]
  },
  {
   "cell_type": "code",
   "execution_count": 20,
   "metadata": {},
   "outputs": [],
   "source": [
    "#A function to calculate the results\n",
    "def result(x):\n",
    "\tconditions = [\n",
    "\t(x['GoalsFor'] > x['GoalsAgainst']),\n",
    "\t(x['GoalsFor'] == x['GoalsAgainst']),\n",
    "\t(x['GoalsFor'] < x['GoalsAgainst'])\n",
    "\t]\n",
    "\tchoices = [1,0,-1]\n",
    "\tx['Result'] = np.select(conditions, choices)\n",
    "\treturn x"
   ]
  },
  {
   "cell_type": "code",
   "execution_count": 21,
   "metadata": {},
   "outputs": [],
   "source": [
    "def joined_result(x):\n",
    "    if x == 'H':\n",
    "        return 1\n",
    "    elif x == 'D':\n",
    "        return 0\n",
    "    elif x == 'A':\n",
    "        return -1"
   ]
  },
  {
   "cell_type": "markdown",
   "metadata": {},
   "source": [
    "# Data Preperation"
   ]
  },
  {
   "cell_type": "markdown",
   "metadata": {},
   "source": [
    "Read CSV Data"
   ]
  },
  {
   "cell_type": "code",
   "execution_count": 22,
   "metadata": {},
   "outputs": [],
   "source": [
    "full_stats=pd.read_csv(r'C:\\Users\\dbrown\\Documents\\Misc\\Football\\16_17\\overall.csv')\n",
    "for year in ['0001','0102','0203','0304','0405','0506','0607','0708','0809','0910','1011','1112','1213','1314','1415','1516','1617','1718']:\n",
    "    for div in ['E0','E1','E2','E3','SC0','SC1','SC2','SC3','B1','F1','F2','SP1','SP2','I1','I2','D1','D2','N1','P1','G1','T1']:\n",
    "        url = 'http://www.football-data.co.uk/mmz4281/1718/%s.csv' % div\n",
    "        #results = results.append(pd.read_csv(url,usecols=['Date','Div','HomeTeam','AwayTeam','FTHG','FTAG','FTR']))\n",
    "        full_stats = full_stats.append(pd.read_csv(url,usecols=['Date','Div','HomeTeam','AwayTeam','FTHG','FTAG','FTR']))\n",
    "    \n",
    "fixtures_url=\"http://www.football-data.co.uk/fixtures.csv\"\n",
    "fixtures=pd.read_csv(fixtures_url,usecols=['Date','Div','HomeTeam','AwayTeam','FTHG','FTAG','FTR'])"
   ]
  },
  {
   "cell_type": "markdown",
   "metadata": {},
   "source": [
    "Define base dataframes"
   ]
  },
  {
   "cell_type": "code",
   "execution_count": 23,
   "metadata": {},
   "outputs": [],
   "source": [
    "#full_stats = full_results[['Date','Div','HomeTeam','AwayTeam','FTHG','FTAG','FTR']]\n",
    "#fixtures = fixtures[['Date','Div','HomeTeam','AwayTeam','FTHG','FTAG','FTR']]\n",
    "full_results_combo = full_stats.append(fixtures)\n",
    "full_results_combo.drop_duplicates(subset=['Date','Div','HomeTeam','AwayTeam'],keep='last',inplace=True)\n",
    "home_stats = full_results_combo.set_index(['Date','Div','HomeTeam'])\n",
    "away_stats = full_results_combo.set_index(['Date','Div','AwayTeam'])"
   ]
  },
  {
   "cell_type": "markdown",
   "metadata": {},
   "source": [
    "Work on dataframes"
   ]
  },
  {
   "cell_type": "code",
   "execution_count": 24,
   "metadata": {},
   "outputs": [],
   "source": [
    "home_stats = home_stats[['FTHG','FTAG']]\n",
    "home_stats.rename(columns={'FTHG':'GoalsFor','FTAG':'GoalsAgainst'},inplace='True')\n",
    "home_stats['GoalDiff'] = home_stats['GoalsFor'] - home_stats['GoalsAgainst']\n",
    "away_stats = away_stats[['FTAG','FTHG']]\n",
    "away_stats.rename(columns={'FTAG':'GoalsFor','FTHG':'GoalsAgainst'},inplace='True')\n",
    "away_stats['GoalDiff'] = away_stats['GoalsFor'] - away_stats['GoalsAgainst']\n",
    "#Set dataframes with the result\n",
    "home_stats = result(home_stats)\n",
    "away_stats = result(away_stats)\n",
    "#Rename columns in Home and Away stats\n",
    "home_stats.rename(columns={'GoalsFor':'HomeGoalsFor','GoalsAgainst':'HomeGoalsAgainst','GoalDiff':'HomeGoalDiff','Result':'HomeResult'},inplace='True')\n",
    "away_stats.rename(columns={'GoalsFor':'AwayGoalsFor','GoalsAgainst':'AwayGoalsAgainst','GoalDiff':'AwayGoalDiff','Result':'AwayResult'},inplace='True')"
   ]
  },
  {
   "cell_type": "markdown",
   "metadata": {},
   "source": [
    "Set 2-6 game form values"
   ]
  },
  {
   "cell_type": "code",
   "execution_count": 25,
   "metadata": {},
   "outputs": [],
   "source": [
    "for num in range(2,7):\n",
    "        home = 'Home'\n",
    "        away = 'Away'\n",
    "        HomeGameForm=\"%s%sGameForm\" % (home,num)\n",
    "        HomeGameGoalsFor=\"%s%sGameGoalsFor\" % (home,num)\n",
    "        HomeGameGoalDiff=\"%s%sGameGoalDiff\" % (home,num)\n",
    "        AwayGameForm=\"%s%sGameForm\" % (away,num)\n",
    "        AwayGameGoalsFor=\"%s%sGameGoalsFor\" % (away,num)\n",
    "        AwayGameGoalDiff=\"%s%sGameGoalDiff\" % (away,num)\n",
    "        home_stats[HomeGameForm] = home_stats['HomeResult'].groupby(level='HomeTeam').apply(lambda x: pd.rolling_mean(x.shift(),num))\n",
    "        home_stats[HomeGameGoalsFor] = home_stats['HomeGoalsFor'].groupby(level='HomeTeam').apply(lambda x: pd.rolling_mean(x.shift(),num))\n",
    "        home_stats[HomeGameGoalDiff] = home_stats['HomeGoalDiff'].groupby(level='HomeTeam').apply(lambda x: pd.rolling_mean(x.shift(),num))\n",
    "        away_stats[AwayGameForm] = away_stats['AwayResult'].groupby(level='AwayTeam').apply(lambda x: pd.rolling_mean(x.shift(),num))\n",
    "        away_stats[AwayGameGoalsFor] = away_stats['AwayGoalsFor'].groupby(level='AwayTeam').apply(lambda x: pd.rolling_mean(x.shift(),num))\n",
    "        away_stats[AwayGameGoalDiff] = away_stats['AwayGoalDiff'].groupby(level='AwayTeam').apply(lambda x: pd.rolling_mean(x.shift(),num))"
   ]
  },
  {
   "cell_type": "markdown",
   "metadata": {},
   "source": [
    "Merge Home and Away Stats"
   ]
  },
  {
   "cell_type": "code",
   "execution_count": 26,
   "metadata": {
    "scrolled": false
   },
   "outputs": [],
   "source": [
    "home_noindex = home_stats.reset_index()\n",
    "away_noindex = away_stats.reset_index()\n",
    "home_merge = pd.merge(full_results_combo, home_noindex, on=['Date','Div','HomeTeam'])\n",
    "home_merge.rename(columns={'HomeTeam_x':'HomeTeam','AwayTeam_x':'AwayTeam'},inplace=True)\n",
    "away_merge = pd.merge(full_results_combo, away_noindex, on=['Date','Div','AwayTeam'])\n",
    "away_merge.rename(columns={'HomeTeam_x':'HomeTeam','AwayTeam_x':'AwayTeam'},inplace=True)\n",
    "home_away_merge = pd.merge(home_merge, away_merge, on=['Date','Div','AwayTeam'])\n",
    "home_away_merge.rename(columns={'HomeTeam_x':'HomeTeam'},inplace=True)\n",
    "home_away_merge = home_away_merge[['Date', 'Div','HomeTeam','AwayTeam','HomeGoalsFor', 'HomeGoalsAgainst', 'HomeGoalDiff', 'HomeResult','Home2GameForm', 'Home2GameGoalsFor', 'Home2GameGoalDiff','Home3GameForm', 'Home3GameGoalsFor', 'Home3GameGoalDiff',\n",
    "       'Home4GameForm', 'Home4GameGoalsFor', 'Home4GameGoalDiff',\n",
    "       'Home5GameForm', 'Home5GameGoalsFor', 'Home5GameGoalDiff',\n",
    "       'Home6GameForm', 'Home6GameGoalsFor', 'Home6GameGoalDiff',\n",
    "       'AwayGoalsFor', 'AwayGoalsAgainst',\n",
    "       'AwayGoalDiff', 'AwayResult', 'Away2GameForm', 'Away2GameGoalsFor',\n",
    "       'Away2GameGoalDiff', 'Away3GameForm', 'Away3GameGoalsFor',\n",
    "       'Away3GameGoalDiff', 'Away4GameForm', 'Away4GameGoalsFor',\n",
    "       'Away4GameGoalDiff', 'Away5GameForm', 'Away5GameGoalsFor',\n",
    "       'Away5GameGoalDiff', 'Away6GameForm', 'Away6GameGoalsFor',\n",
    "       'Away6GameGoalDiff']]"
   ]
  },
  {
   "cell_type": "markdown",
   "metadata": {},
   "source": [
    "Set relevant columns and clean data"
   ]
  },
  {
   "cell_type": "code",
   "execution_count": 27,
   "metadata": {
    "scrolled": true
   },
   "outputs": [],
   "source": [
    "home_away_merge_idx = home_away_merge.set_index(['Date','Div','HomeTeam','AwayTeam'])\n",
    "#home_away_merge_idx_relevant = home_away_merge_idx[['HomeGoalsFor','AwayGoalsFor','HomeResult','3GameFormDiff']]\n",
    "#home_away_merge_cleaned = home_away_merge_idx_relevant.dropna()"
   ]
  },
  {
   "cell_type": "markdown",
   "metadata": {},
   "source": [
    "Set 2-6 game form difference values"
   ]
  },
  {
   "cell_type": "code",
   "execution_count": 28,
   "metadata": {},
   "outputs": [],
   "source": [
    "for num in range(2,7):\n",
    "        home = 'Home'\n",
    "        away = 'Away'\n",
    "        HomeGameForm=\"%s%sGameForm\" % (home,num)\n",
    "        HomeGameGoalsFor=\"%s%sGameGoalsFor\" % (home,num)\n",
    "        HomeGameGoalDiff=\"%s%sGameGoalDiff\" % (home,num)\n",
    "        AwayGameForm=\"%s%sGameForm\" % (away,num)\n",
    "        AwayGameGoalsFor=\"%s%sGameGoalsFor\" % (away,num)\n",
    "        AwayGameGoalDiff=\"%s%sGameGoalDiff\" % (away,num)\n",
    "        GameFormDiff = \"%sGameFormDiff\" % (num)\n",
    "        GameGoalsForDiff = \"%sGameGoalsForDiff\" % (num)\n",
    "        GameGoalDiffDiff = \"%sGameGoalDiffDiff\" % (num)\n",
    "        home_away_merge_idx[GameFormDiff] = home_away_merge_idx[HomeGameForm] - home_away_merge_idx[AwayGameForm]\n",
    "        home_away_merge_idx[GameGoalsForDiff] = home_away_merge_idx[HomeGameGoalsFor] - home_away_merge_idx[AwayGameGoalsFor]\n",
    "        home_away_merge_idx[GameGoalDiffDiff] = home_away_merge_idx[HomeGameGoalDiff] - home_away_merge_idx[AwayGameGoalDiff]"
   ]
  },
  {
   "cell_type": "markdown",
   "metadata": {},
   "source": [
    "Deal with NaN values"
   ]
  },
  {
   "cell_type": "code",
   "execution_count": 29,
   "metadata": {},
   "outputs": [],
   "source": [
    "home_away_merge_idx_zeroed = home_away_merge_idx.fillna(0)\n",
    "home_away_merge_idx_dropped = home_away_merge_idx.dropna()\n",
    "home_away_merge_idx_zeroed_reset = home_away_merge_idx_zeroed.reset_index()"
   ]
  },
  {
   "cell_type": "markdown",
   "metadata": {},
   "source": [
    "Get the latest stats"
   ]
  },
  {
   "cell_type": "code",
   "execution_count": 30,
   "metadata": {},
   "outputs": [],
   "source": [
    "home_stats_latest = home_away_merge_idx_zeroed_reset.groupby('HomeTeam').last()\n",
    "home_stats_latest.reset_index(inplace=True)\n",
    "home_stats_latest.set_index(['Date','Div','HomeTeam','AwayTeam'],inplace=True)\n",
    "latest_fixtures = home_stats_latest[home_stats_latest[\"HomeResult\"]==0]"
   ]
  },
  {
   "cell_type": "code",
   "execution_count": 44,
   "metadata": {},
   "outputs": [
    {
     "data": {
      "text/plain": [
       "Index(['HomeGoalsFor', 'HomeGoalsAgainst', 'HomeGoalDiff', 'HomeResult',\n",
       "       'Home2GameForm', 'Home2GameGoalsFor', 'Home2GameGoalDiff',\n",
       "       'Home3GameForm', 'Home3GameGoalsFor', 'Home3GameGoalDiff',\n",
       "       'Home4GameForm', 'Home4GameGoalsFor', 'Home4GameGoalDiff',\n",
       "       'Home5GameForm', 'Home5GameGoalsFor', 'Home5GameGoalDiff',\n",
       "       'Home6GameForm', 'Home6GameGoalsFor', 'Home6GameGoalDiff',\n",
       "       'AwayGoalsFor', 'AwayGoalsAgainst', 'AwayGoalDiff', 'AwayResult',\n",
       "       'Away2GameForm', 'Away2GameGoalsFor', 'Away2GameGoalDiff',\n",
       "       'Away3GameForm', 'Away3GameGoalsFor', 'Away3GameGoalDiff',\n",
       "       'Away4GameForm', 'Away4GameGoalsFor', 'Away4GameGoalDiff',\n",
       "       'Away5GameForm', 'Away5GameGoalsFor', 'Away5GameGoalDiff',\n",
       "       'Away6GameForm', 'Away6GameGoalsFor', 'Away6GameGoalDiff',\n",
       "       '2GameFormDiff', '2GameGoalsForDiff', '2GameGoalDiffDiff',\n",
       "       '3GameFormDiff', '3GameGoalsForDiff', '3GameGoalDiffDiff',\n",
       "       '4GameFormDiff', '4GameGoalsForDiff', '4GameGoalDiffDiff',\n",
       "       '5GameFormDiff', '5GameGoalsForDiff', '5GameGoalDiffDiff',\n",
       "       '6GameFormDiff', '6GameGoalsForDiff', '6GameGoalDiffDiff'],\n",
       "      dtype='object')"
      ]
     },
     "execution_count": 44,
     "metadata": {},
     "output_type": "execute_result"
    }
   ],
   "source": [
    "home_away_merge_idx_dropped.columns"
   ]
  },
  {
   "cell_type": "markdown",
   "metadata": {},
   "source": [
    "# Logistic Regression on HomeResult"
   ]
  },
  {
   "cell_type": "code",
   "execution_count": 45,
   "metadata": {},
   "outputs": [],
   "source": [
    "y = home_away_merge_idx_dropped['HomeResult']\n",
    "X = home_away_merge_idx_dropped[[\n",
    "    '3GameFormDiff', '3GameGoalsForDiff', '3GameGoalDiffDiff']]\n",
    "logreg = LogisticRegression()"
   ]
  },
  {
   "cell_type": "code",
   "execution_count": 46,
   "metadata": {},
   "outputs": [
    {
     "data": {
      "text/plain": [
       "0.47610877373676336"
      ]
     },
     "execution_count": 46,
     "metadata": {},
     "output_type": "execute_result"
    }
   ],
   "source": [
    "X_train, X_test, y_train, y_test = cross_validation.train_test_split(X, y, test_size=0.8)\n",
    "logreg.fit(X_train, y_train)\n",
    "logreg.score(X_train, y_train)\n",
    "cross_val_score(logreg, X, y, cv=10, scoring='accuracy').mean()"
   ]
  },
  {
   "cell_type": "code",
   "execution_count": 52,
   "metadata": {},
   "outputs": [],
   "source": [
    "y = home_away_merge_idx_dropped['HomeResult']\n",
    "X = home_away_merge_idx_dropped[[\n",
    "    'Home2GameForm', 'Home2GameGoalsFor', 'Home2GameGoalDiff',\n",
    "       'Home3GameForm', 'Home3GameGoalsFor', 'Home3GameGoalDiff',\n",
    "       'Home4GameForm', 'Home4GameGoalsFor', 'Home4GameGoalDiff',\n",
    "       'Home5GameForm', 'Home5GameGoalsFor', 'Home5GameGoalDiff',\n",
    "       'Home6GameForm', 'Home6GameGoalsFor', 'Home6GameGoalDiff',\n",
    "       'Away2GameForm', 'Away2GameGoalsFor', 'Away2GameGoalDiff',\n",
    "       'Away3GameForm', 'Away3GameGoalsFor', 'Away3GameGoalDiff',\n",
    "       'Away4GameForm', 'Away4GameGoalsFor', 'Away4GameGoalDiff',\n",
    "       'Away5GameForm', 'Away5GameGoalsFor', 'Away5GameGoalDiff',\n",
    "       'Away6GameForm', 'Away6GameGoalsFor', 'Away6GameGoalDiff',\n",
    "       '2GameFormDiff', '2GameGoalsForDiff', '2GameGoalDiffDiff',\n",
    "       '3GameFormDiff', '3GameGoalsForDiff', '3GameGoalDiffDiff',\n",
    "       '4GameFormDiff', '4GameGoalsForDiff', '4GameGoalDiffDiff',\n",
    "       '5GameFormDiff', '5GameGoalsForDiff', '5GameGoalDiffDiff',\n",
    "       '6GameFormDiff', '6GameGoalsForDiff', '6GameGoalDiffDiff']]\n",
    "\n",
    "logreg = LogisticRegression()\n",
    "\n",
    "#X_train, X_test, y_train, y_test = cross_validation.train_test_split(X, y, test_size=0.9)\n",
    "logreg.fit(X, y)\n",
    "logreg.score(X, y)\n",
    "\n",
    "y_pred = logreg.predict(X)\n",
    "#metrics.accuracy_score(y_test, y_pred)\n",
    "\n",
    "#cross_val_score(logreg, X, y, cv=10, scoring='accuracy')\n",
    "\n",
    "#cross_val_score(logreg, X, y, cv=10, scoring='accuracy').mean()\n",
    "\n",
    "#y_pred_prob = logreg.predict_proba(X_test)[:, -1]\n",
    "\n",
    "#logreg.predict_proba(X_test)[:, -3]\n",
    "\n",
    "#y_pred_prob\n",
    "\n",
    "latest_fixtures_cut = latest_fixtures[[\n",
    "    'Home2GameForm', 'Home2GameGoalsFor', 'Home2GameGoalDiff',\n",
    "       'Home3GameForm', 'Home3GameGoalsFor', 'Home3GameGoalDiff',\n",
    "       'Home4GameForm', 'Home4GameGoalsFor', 'Home4GameGoalDiff',\n",
    "       'Home5GameForm', 'Home5GameGoalsFor', 'Home5GameGoalDiff',\n",
    "       'Home6GameForm', 'Home6GameGoalsFor', 'Home6GameGoalDiff',\n",
    "       'Away2GameForm', 'Away2GameGoalsFor', 'Away2GameGoalDiff',\n",
    "       'Away3GameForm', 'Away3GameGoalsFor', 'Away3GameGoalDiff',\n",
    "       'Away4GameForm', 'Away4GameGoalsFor', 'Away4GameGoalDiff',\n",
    "       'Away5GameForm', 'Away5GameGoalsFor', 'Away5GameGoalDiff',\n",
    "       'Away6GameForm', 'Away6GameGoalsFor', 'Away6GameGoalDiff',\n",
    "       '2GameFormDiff', '2GameGoalsForDiff', '2GameGoalDiffDiff',\n",
    "       '3GameFormDiff', '3GameGoalsForDiff', '3GameGoalDiffDiff',\n",
    "       '4GameFormDiff', '4GameGoalsForDiff', '4GameGoalDiffDiff',\n",
    "       '5GameFormDiff', '5GameGoalsForDiff', '5GameGoalDiffDiff',\n",
    "       '6GameFormDiff', '6GameGoalsForDiff', '6GameGoalDiffDiff']]\n",
    "probs = logreg.predict_proba(latest_fixtures_cut)\n",
    "probs_df = pd.DataFrame(probs)\n",
    "probs_df.rename(columns={0:'AwayWinProb',1:'DrawProb',2:'HomeWinProb'},inplace='True')\n",
    "latest_fixtures_cut_noind = latest_fixtures_cut.reset_index()\n",
    "pred_join = latest_fixtures_cut_noind.join(probs_df)\n",
    "pred_join_cut = pred_join[[\"Date\",\"Div\",\"HomeTeam\",\"AwayTeam\",\"HomeWinProb\"]]"
   ]
  },
  {
   "cell_type": "code",
   "execution_count": 53,
   "metadata": {},
   "outputs": [
    {
     "data": {
      "text/html": [
       "<div>\n",
       "<style scoped>\n",
       "    .dataframe tbody tr th:only-of-type {\n",
       "        vertical-align: middle;\n",
       "    }\n",
       "\n",
       "    .dataframe tbody tr th {\n",
       "        vertical-align: top;\n",
       "    }\n",
       "\n",
       "    .dataframe thead th {\n",
       "        text-align: right;\n",
       "    }\n",
       "</style>\n",
       "<table border=\"1\" class=\"dataframe\">\n",
       "  <thead>\n",
       "    <tr style=\"text-align: right;\">\n",
       "      <th></th>\n",
       "      <th>Date</th>\n",
       "      <th>Div</th>\n",
       "      <th>HomeTeam</th>\n",
       "      <th>AwayTeam</th>\n",
       "      <th>HomeWinProb</th>\n",
       "    </tr>\n",
       "  </thead>\n",
       "  <tbody>\n",
       "    <tr>\n",
       "      <th>50</th>\n",
       "      <td>24/02/18</td>\n",
       "      <td>SP2</td>\n",
       "      <td>Cadiz</td>\n",
       "      <td>Lorca</td>\n",
       "      <td>0.682370</td>\n",
       "    </tr>\n",
       "    <tr>\n",
       "      <th>97</th>\n",
       "      <td>23/02/18</td>\n",
       "      <td>T1</td>\n",
       "      <td>Galatasaray</td>\n",
       "      <td>Bursaspor</td>\n",
       "      <td>0.677629</td>\n",
       "    </tr>\n",
       "    <tr>\n",
       "      <th>117</th>\n",
       "      <td>24/02/18</td>\n",
       "      <td>I1</td>\n",
       "      <td>Inter</td>\n",
       "      <td>Benevento</td>\n",
       "      <td>0.671614</td>\n",
       "    </tr>\n",
       "    <tr>\n",
       "      <th>157</th>\n",
       "      <td>16/02/18</td>\n",
       "      <td>F2</td>\n",
       "      <td>Nimes</td>\n",
       "      <td>Tours</td>\n",
       "      <td>0.684622</td>\n",
       "    </tr>\n",
       "    <tr>\n",
       "      <th>181</th>\n",
       "      <td>17/02/18</td>\n",
       "      <td>SC3</td>\n",
       "      <td>Peterhead</td>\n",
       "      <td>Berwick</td>\n",
       "      <td>0.672224</td>\n",
       "    </tr>\n",
       "    <tr>\n",
       "      <th>195</th>\n",
       "      <td>24/02/18</td>\n",
       "      <td>SP1</td>\n",
       "      <td>Real Madrid</td>\n",
       "      <td>Alaves</td>\n",
       "      <td>0.686613</td>\n",
       "    </tr>\n",
       "    <tr>\n",
       "      <th>221</th>\n",
       "      <td>24/02/18</td>\n",
       "      <td>SC1</td>\n",
       "      <td>St Mirren</td>\n",
       "      <td>Brechin</td>\n",
       "      <td>0.688234</td>\n",
       "    </tr>\n",
       "    <tr>\n",
       "      <th>235</th>\n",
       "      <td>20/02/18</td>\n",
       "      <td>F1</td>\n",
       "      <td>Troyes</td>\n",
       "      <td>Dijon</td>\n",
       "      <td>0.665265</td>\n",
       "    </tr>\n",
       "  </tbody>\n",
       "</table>\n",
       "</div>"
      ],
      "text/plain": [
       "         Date  Div     HomeTeam   AwayTeam  HomeWinProb\n",
       "50   24/02/18  SP2        Cadiz      Lorca     0.682370\n",
       "97   23/02/18   T1  Galatasaray  Bursaspor     0.677629\n",
       "117  24/02/18   I1        Inter  Benevento     0.671614\n",
       "157  16/02/18   F2        Nimes      Tours     0.684622\n",
       "181  17/02/18  SC3    Peterhead    Berwick     0.672224\n",
       "195  24/02/18  SP1  Real Madrid     Alaves     0.686613\n",
       "221  24/02/18  SC1    St Mirren    Brechin     0.688234\n",
       "235  20/02/18   F1       Troyes      Dijon     0.665265"
      ]
     },
     "execution_count": 53,
     "metadata": {},
     "output_type": "execute_result"
    }
   ],
   "source": [
    "pred_join_cut[pred_join_cut[\"HomeWinProb\"]>0.65]"
   ]
  },
  {
   "cell_type": "code",
   "execution_count": null,
   "metadata": {},
   "outputs": [],
   "source": []
  }
 ],
 "metadata": {
  "kernelspec": {
   "display_name": "Python 3",
   "language": "python",
   "name": "python3"
  },
  "language_info": {
   "codemirror_mode": {
    "name": "ipython",
    "version": 3
   },
   "file_extension": ".py",
   "mimetype": "text/x-python",
   "name": "python",
   "nbconvert_exporter": "python",
   "pygments_lexer": "ipython3",
   "version": "3.6.2"
  }
 },
 "nbformat": 4,
 "nbformat_minor": 2
}
