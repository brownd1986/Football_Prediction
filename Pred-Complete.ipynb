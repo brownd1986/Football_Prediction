{
 "cells": [
  {
   "cell_type": "markdown",
   "metadata": {},
   "source": [
    "# Import required modules"
   ]
  },
  {
   "cell_type": "code",
   "execution_count": 291,
   "metadata": {},
   "outputs": [],
   "source": [
    "import warnings\n",
    "warnings.filterwarnings('ignore')\n",
    "import pandas as pd\n",
    "import numpy as np\n",
    "from sklearn import datasets\n",
    "from sklearn import cross_validation\n",
    "from pandas.tools.plotting import scatter_matrix\n",
    "import matplotlib.pyplot as plt\n",
    "from sklearn import metrics\n",
    "from sklearn.linear_model import LogisticRegression\n",
    "from sklearn.linear_model import LinearRegression\n",
    "from sklearn import model_selection\n",
    "from sklearn.metrics import classification_report\n",
    "from sklearn.metrics import confusion_matrix\n",
    "from sklearn.metrics import accuracy_score\n",
    "from sklearn.tree import DecisionTreeClassifier\n",
    "from sklearn.neighbors import KNeighborsClassifier\n",
    "from sklearn.discriminant_analysis import LinearDiscriminantAnalysis\n",
    "from sklearn.naive_bayes import GaussianNB\n",
    "from sklearn.svm import SVC\n",
    "import seaborn as sns\n",
    "import glob\n",
    "import os\n",
    "from sklearn.cross_validation import cross_val_score\n",
    "plt.style.use('ggplot')"
   ]
  },
  {
   "cell_type": "markdown",
   "metadata": {},
   "source": [
    "# Define Functions"
   ]
  },
  {
   "cell_type": "code",
   "execution_count": 292,
   "metadata": {},
   "outputs": [],
   "source": [
    "#A function to calculate the results\n",
    "def result(x):\n",
    "\tconditions = [\n",
    "\t(x['GoalsFor'] > x['GoalsAgainst']),\n",
    "\t(x['GoalsFor'] == x['GoalsAgainst']),\n",
    "\t(x['GoalsFor'] < x['GoalsAgainst'])\n",
    "\t]\n",
    "\tchoices = [1,0,-1]\n",
    "\tx['Result'] = np.select(conditions, choices)\n",
    "\treturn x"
   ]
  },
  {
   "cell_type": "code",
   "execution_count": 293,
   "metadata": {},
   "outputs": [],
   "source": [
    "#A function to calculate the results\n",
    "def HomeResult(x):\n",
    "\tconditions = [\n",
    "\t(x['HomeGoals'] > x['AwayGoals']),\n",
    "\t(x['HomeGoals'] == x['AwayGoals']),\n",
    "\t(x['HomeGoals'] < x['AwayGoals'])\n",
    "\t]\n",
    "\tchoices = [1,0,-1]\n",
    "\tx['HomeResult'] = np.select(conditions, choices)\n",
    "\treturn x\n",
    "\n",
    "def AwayResult(x):\n",
    "\tconditions = [\n",
    "\t(x['AwayGoals'] > x['HomeGoals']),\n",
    "\t(x['AwayGoals'] == x['HomeGoals']),\n",
    "\t(x['AwayGoals'] < x['HomeGoals'])\n",
    "\t]\n",
    "\tchoices = [1,0,-1]\n",
    "\tx['AwayResult'] = np.select(conditions, choices)\n",
    "\treturn x"
   ]
  },
  {
   "cell_type": "code",
   "execution_count": 294,
   "metadata": {},
   "outputs": [],
   "source": [
    "def joined_result(x):\n",
    "\tconditions = [\n",
    "\t(x['Result'] == 'H'),\n",
    "\t(x['Result'] == 'D'),\n",
    "\t(x['Result'] == 'A')\n",
    "\t]\n",
    "\tchoices = [1,0,-1]\n",
    "\tx['ResultValue'] = np.select(conditions, choices)\n",
    "\treturn x"
   ]
  },
  {
   "cell_type": "markdown",
   "metadata": {},
   "source": [
    "# Data Preperation"
   ]
  },
  {
   "cell_type": "markdown",
   "metadata": {},
   "source": [
    "Read CSV Data"
   ]
  },
  {
   "cell_type": "code",
   "execution_count": 295,
   "metadata": {},
   "outputs": [],
   "source": [
    "#full_stats=pd.read_csv(r'C:\\Users\\dbrown\\Documents\\Misc\\Football\\16_17\\overall.csv')\n",
    "full_stats = pd.DataFrame()\n",
    "for year in ['1011','1112','1213','1314','1415','1516','1617','1718']:\n",
    "    for div in ['E0','E1','E2','E3','SC0','SC1','SC2','SC3','B1','F1','F2','SP1','SP2','I1','I2','D1','D2','N1','P1','G1','T1']:\n",
    "        url = 'http://www.football-data.co.uk/mmz4281/%s/%s.csv' % (year,div)\n",
    "        #results = results.append(pd.read_csv(url,usecols=['Date','Div','HomeTeam','AwayTeam','FTHG','FTAG','FTR']))\n",
    "        full_stats = full_stats.append(pd.read_csv(url,usecols=['Date','Div','HomeTeam','AwayTeam','FTHG','FTAG','FTR']))\n",
    "    \n",
    "fixtures_url=\"http://www.football-data.co.uk/fixtures.csv\"\n",
    "fixtures=pd.read_csv(fixtures_url,usecols=['Date','Div','HomeTeam','AwayTeam','FTHG','FTAG','FTR'])"
   ]
  },
  {
   "cell_type": "markdown",
   "metadata": {},
   "source": [
    "Define base dataframes"
   ]
  },
  {
   "cell_type": "code",
   "execution_count": 296,
   "metadata": {},
   "outputs": [],
   "source": [
    "full_results_combo = full_stats.append(fixtures)\n",
    "#full_results_combo2.fillna(0,inplace=True)\n",
    "full_results_combo.drop_duplicates(subset=['Date','Div','HomeTeam','AwayTeam'],keep='last',inplace=True)\n",
    "full_results_combo.set_index(['Date','Div','HomeTeam','AwayTeam'],inplace=True)\n",
    "full_results_combo.rename(columns={'FTHG':'HomeGoals','FTAG':'AwayGoals','FTR':'Result'},inplace='True')\n",
    "full_results_combo = joined_result(full_results_combo2)\n",
    "full_results_combo = HomeResult(full_results_combo2)\n",
    "full_results_combo = AwayResult(full_results_combo2)\n",
    "full_results_combo['HomeGoalDiff'] = full_results_combo2['HomeGoals'] - full_results_combo2['AwayGoals']\n",
    "full_results_combo['AwayGoalDiff'] = full_results_combo2['AwayGoals'] - full_results_combo2['HomeGoals']\n",
    "full_results_combo['H2H'] = full_results_combo2['ResultValue'].groupby(level=['HomeTeam','AwayTeam']).apply(lambda x: pd.rolling_mean(x.shift(),10000,min_periods=3))"
   ]
  },
  {
   "cell_type": "markdown",
   "metadata": {},
   "source": [
    "Set 2-6 game form values"
   ]
  },
  {
   "cell_type": "code",
   "execution_count": 297,
   "metadata": {},
   "outputs": [],
   "source": [
    "for num in range(2,7):\n",
    "        home = 'Home'\n",
    "        away = 'Away'\n",
    "        HomeGameForm=\"%s%sGameForm\" % (home,num)\n",
    "        HomeGameGoalsFor=\"%s%sGameGoalsFor\" % (home,num)\n",
    "        HomeGameGoalDiff=\"%s%sGameGoalDiff\" % (home,num)\n",
    "        AwayGameForm=\"%s%sGameForm\" % (away,num)\n",
    "        AwayGameGoalsFor=\"%s%sGameGoalsFor\" % (away,num)\n",
    "        AwayGameGoalDiff=\"%s%sGameGoalDiff\" % (away,num)\n",
    "        full_results_combo[HomeGameForm] = full_results_combo['HomeResult'].groupby(level='HomeTeam').apply(lambda x: pd.rolling_mean(x.shift(),num))\n",
    "        full_results_combo[HomeGameGoalsFor] = full_results_combo['HomeGoals'].groupby(level='HomeTeam').apply(lambda x: pd.rolling_mean(x.shift(),num))\n",
    "        full_results_combo[HomeGameGoalDiff] = full_results_combo['HomeGoalDiff'].groupby(level='HomeTeam').apply(lambda x: pd.rolling_mean(x.shift(),num))\n",
    "        full_results_combo[AwayGameForm] = full_results_combo['AwayResult'].groupby(level='AwayTeam').apply(lambda x: pd.rolling_mean(x.shift(),num))\n",
    "        full_results_combo[AwayGameGoalsFor] = full_results_combo['AwayGoals'].groupby(level='AwayTeam').apply(lambda x: pd.rolling_mean(x.shift(),num))\n",
    "        full_results_combo[AwayGameGoalDiff] = full_results_combo['AwayGoalDiff'].groupby(level='AwayTeam').apply(lambda x: pd.rolling_mean(x.shift(),num))"
   ]
  },
  {
   "cell_type": "markdown",
   "metadata": {},
   "source": [
    "Set 2-6 game form difference values"
   ]
  },
  {
   "cell_type": "code",
   "execution_count": 298,
   "metadata": {},
   "outputs": [],
   "source": [
    "for num in range(2,7):\n",
    "        home = 'Home'\n",
    "        away = 'Away'\n",
    "        HomeGameForm=\"%s%sGameForm\" % (home,num)\n",
    "        HomeGameGoalsFor=\"%s%sGameGoalsFor\" % (home,num)\n",
    "        HomeGameGoalDiff=\"%s%sGameGoalDiff\" % (home,num)\n",
    "        AwayGameForm=\"%s%sGameForm\" % (away,num)\n",
    "        AwayGameGoalsFor=\"%s%sGameGoalsFor\" % (away,num)\n",
    "        AwayGameGoalDiff=\"%s%sGameGoalDiff\" % (away,num)\n",
    "        GameFormDiff = \"%sGameFormDiff\" % (num)\n",
    "        GameGoalsForDiff = \"%sGameGoalsForDiff\" % (num)\n",
    "        GameGoalDiffDiff = \"%sGameGoalDiffDiff\" % (num)\n",
    "        full_results_combo[GameFormDiff] = full_results_combo[HomeGameForm] - full_results_combo[AwayGameForm]\n",
    "        full_results_combo[GameGoalsForDiff] = full_results_combo[HomeGameGoalsFor] - full_results_combo[AwayGameGoalsFor]\n",
    "        full_results_combo[GameGoalDiffDiff] = full_results_combo[HomeGameGoalDiff] - full_results_combo[AwayGameGoalDiff]"
   ]
  },
  {
   "cell_type": "markdown",
   "metadata": {},
   "source": [
    "Deal with NaN values"
   ]
  },
  {
   "cell_type": "code",
   "execution_count": 299,
   "metadata": {},
   "outputs": [],
   "source": [
    "full_results_combo2_zeroed = full_results_combo2.fillna(value = {'HomeGoals': 0,'AwayGoals': 0,'Result': 0,'ResultValue': 0,'HomeResult': 0,'AwayResult': 0,'HomeGoalDiff': 0,'AwayGoalDiff': 0})\n",
    "full_results_combo2_zeroed_dropped = full_results_combo2_zeroed.dropna()\n",
    "full_results_combo2_dropped = full_results_combo2.dropna()\n",
    "full_results_combo2_zeroed_dropped_reset = full_results_combo2_zeroed_dropped.reset_index()"
   ]
  },
  {
   "cell_type": "code",
   "execution_count": 311,
   "metadata": {},
   "outputs": [],
   "source": [
    "stats_latest = full_results_combo2_zeroed_dropped_reset.groupby('HomeTeam').last()\n",
    "stats_latest.reset_index(inplace=True)\n",
    "stats_latest.set_index(['Date','Div','HomeTeam','AwayTeam'],inplace=True)\n",
    "latest_fixtures = stats_latest[stats_latest[\"Result\"]==0]"
   ]
  },
  {
   "cell_type": "markdown",
   "metadata": {},
   "source": [
    "Get the latest stats"
   ]
  },
  {
   "cell_type": "markdown",
   "metadata": {},
   "source": [
    "# Logistic Regression on HomeResult"
   ]
  },
  {
   "cell_type": "code",
   "execution_count": 302,
   "metadata": {},
   "outputs": [],
   "source": [
    "#y = home_away_merge_idx_dropped['HomeResult']\n",
    "#X = home_away_merge_idx_dropped[[\n",
    "#    '3GameFormDiff', '3GameGoalsForDiff', '3GameGoalDiffDiff']]\n",
    "#logreg = LogisticRegression()"
   ]
  },
  {
   "cell_type": "code",
   "execution_count": 303,
   "metadata": {
    "scrolled": true
   },
   "outputs": [],
   "source": [
    "#X_train, X_test, y_train, y_test = cross_validation.train_test_split(X, y, test_size=0.8)\n",
    "#logreg.fit(X_train, y_train)\n",
    "#logreg.score(X_train, y_train)\n",
    "#cross_val_score(logreg, X, y, cv=10, scoring='accuracy').mean()"
   ]
  },
  {
   "cell_type": "code",
   "execution_count": 327,
   "metadata": {},
   "outputs": [],
   "source": [
    "columns = ['H2H',\n",
    "       'Home2GameForm', 'Home2GameGoalsFor', 'Home2GameGoalDiff',\n",
    "       'Home3GameForm', 'Home3GameGoalsFor', 'Home3GameGoalDiff',\n",
    "       'Home4GameForm', 'Home4GameGoalsFor', 'Home4GameGoalDiff',\n",
    "       'Home5GameForm', 'Home5GameGoalsFor', 'Home5GameGoalDiff',\n",
    "       'Home6GameForm', 'Home6GameGoalsFor', 'Home6GameGoalDiff',\n",
    "       'Away2GameForm', 'Away2GameGoalsFor', 'Away2GameGoalDiff',\n",
    "       'Away3GameForm', 'Away3GameGoalsFor', 'Away3GameGoalDiff',\n",
    "       'Away4GameForm', 'Away4GameGoalsFor', 'Away4GameGoalDiff',\n",
    "       'Away5GameForm', 'Away5GameGoalsFor', 'Away5GameGoalDiff',\n",
    "       'Away6GameForm', 'Away6GameGoalsFor', 'Away6GameGoalDiff',\n",
    "       '2GameFormDiff', '2GameGoalsForDiff', '2GameGoalDiffDiff',\n",
    "       '3GameFormDiff', '3GameGoalsForDiff', '3GameGoalDiffDiff',\n",
    "       '4GameFormDiff', '4GameGoalsForDiff', '4GameGoalDiffDiff',\n",
    "       '5GameFormDiff', '5GameGoalsForDiff', '5GameGoalDiffDiff',\n",
    "       '6GameFormDiff', '6GameGoalsForDiff', '6GameGoalDiffDiff'\n",
    "        ]"
   ]
  },
  {
   "cell_type": "code",
   "execution_count": 328,
   "metadata": {},
   "outputs": [],
   "source": [
    "y = full_results_combo2_dropped['HomeResult']\n",
    "X = full_results_combo2_dropped[columns]\n",
    "\n",
    "logreg = LogisticRegression()\n",
    "\n",
    "logreg.fit(X, y)\n",
    "logreg.score(X, y)\n",
    "\n",
    "y_pred = logreg.predict(X)"
   ]
  },
  {
   "cell_type": "code",
   "execution_count": 329,
   "metadata": {},
   "outputs": [],
   "source": [
    "latest_fixtures_cut = latest_fixtures[columns]\n",
    "probs = logreg.predict_proba(latest_fixtures_cut)\n",
    "probs_df = pd.DataFrame(probs)\n",
    "probs_df.rename(columns={0:'AwayWinProb',1:'DrawProb',2:'HomeWinProb'},inplace='True')\n",
    "latest_fixtures_cut_noind = latest_fixtures_cut.reset_index()\n",
    "pred_join = latest_fixtures_cut_noind.join(probs_df)"
   ]
  },
  {
   "cell_type": "code",
   "execution_count": 330,
   "metadata": {},
   "outputs": [
    {
     "data": {
      "text/html": [
       "<div>\n",
       "<style scoped>\n",
       "    .dataframe tbody tr th:only-of-type {\n",
       "        vertical-align: middle;\n",
       "    }\n",
       "\n",
       "    .dataframe tbody tr th {\n",
       "        vertical-align: top;\n",
       "    }\n",
       "\n",
       "    .dataframe thead th {\n",
       "        text-align: right;\n",
       "    }\n",
       "</style>\n",
       "<table border=\"1\" class=\"dataframe\">\n",
       "  <thead>\n",
       "    <tr style=\"text-align: right;\">\n",
       "      <th></th>\n",
       "      <th>Date</th>\n",
       "      <th>Div</th>\n",
       "      <th>HomeTeam</th>\n",
       "      <th>AwayTeam</th>\n",
       "      <th>HomeWinProb</th>\n",
       "    </tr>\n",
       "  </thead>\n",
       "  <tbody>\n",
       "    <tr>\n",
       "      <th>42</th>\n",
       "      <td>23/02/18</td>\n",
       "      <td>T1</td>\n",
       "      <td>Galatasaray</td>\n",
       "      <td>Bursaspor</td>\n",
       "      <td>0.689248</td>\n",
       "    </tr>\n",
       "    <tr>\n",
       "      <th>76</th>\n",
       "      <td>25/02/18</td>\n",
       "      <td>F1</td>\n",
       "      <td>Paris SG</td>\n",
       "      <td>Marseille</td>\n",
       "      <td>0.713578</td>\n",
       "    </tr>\n",
       "  </tbody>\n",
       "</table>\n",
       "</div>"
      ],
      "text/plain": [
       "        Date Div     HomeTeam   AwayTeam  HomeWinProb\n",
       "42  23/02/18  T1  Galatasaray  Bursaspor     0.689248\n",
       "76  25/02/18  F1     Paris SG  Marseille     0.713578"
      ]
     },
     "execution_count": 330,
     "metadata": {},
     "output_type": "execute_result"
    }
   ],
   "source": [
    "pred_join_cut = pred_join[[\"Date\",\"Div\",\"HomeTeam\",\"AwayTeam\",\"HomeWinProb\"]]\n",
    "pred_join_cut[pred_join_cut[\"HomeWinProb\"]>0.65]"
   ]
  },
  {
   "cell_type": "code",
   "execution_count": 332,
   "metadata": {},
   "outputs": [
    {
     "data": {
      "text/html": [
       "<div>\n",
       "<style scoped>\n",
       "    .dataframe tbody tr th:only-of-type {\n",
       "        vertical-align: middle;\n",
       "    }\n",
       "\n",
       "    .dataframe tbody tr th {\n",
       "        vertical-align: top;\n",
       "    }\n",
       "\n",
       "    .dataframe thead th {\n",
       "        text-align: right;\n",
       "    }\n",
       "</style>\n",
       "<table border=\"1\" class=\"dataframe\">\n",
       "  <thead>\n",
       "    <tr style=\"text-align: right;\">\n",
       "      <th></th>\n",
       "      <th>Date</th>\n",
       "      <th>Div</th>\n",
       "      <th>HomeTeam</th>\n",
       "      <th>AwayTeam</th>\n",
       "      <th>AwayWinProb</th>\n",
       "    </tr>\n",
       "  </thead>\n",
       "  <tbody>\n",
       "    <tr>\n",
       "      <th>29</th>\n",
       "      <td>24/02/18</td>\n",
       "      <td>SC3</td>\n",
       "      <td>Cowdenbeath</td>\n",
       "      <td>Peterhead</td>\n",
       "      <td>0.569638</td>\n",
       "    </tr>\n",
       "  </tbody>\n",
       "</table>\n",
       "</div>"
      ],
      "text/plain": [
       "        Date  Div     HomeTeam   AwayTeam  AwayWinProb\n",
       "29  24/02/18  SC3  Cowdenbeath  Peterhead     0.569638"
      ]
     },
     "execution_count": 332,
     "metadata": {},
     "output_type": "execute_result"
    }
   ],
   "source": [
    "pred_join_cut_away = pred_join[[\"Date\",\"Div\",\"HomeTeam\",\"AwayTeam\",\"AwayWinProb\"]]\n",
    "pred_join_cut_away[pred_join_cut_away[\"AwayWinProb\"]>0.55]"
   ]
  },
  {
   "cell_type": "code",
   "execution_count": null,
   "metadata": {},
   "outputs": [],
   "source": []
  }
 ],
 "metadata": {
  "kernelspec": {
   "display_name": "Python 3",
   "language": "python",
   "name": "python3"
  },
  "language_info": {
   "codemirror_mode": {
    "name": "ipython",
    "version": 3
   },
   "file_extension": ".py",
   "mimetype": "text/x-python",
   "name": "python",
   "nbconvert_exporter": "python",
   "pygments_lexer": "ipython3",
   "version": "3.6.2"
  }
 },
 "nbformat": 4,
 "nbformat_minor": 2
}
